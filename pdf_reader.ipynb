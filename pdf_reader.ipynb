{
  "nbformat": 4,
  "nbformat_minor": 0,
  "metadata": {
    "colab": {
      "provenance": [],
      "include_colab_link": true
    },
    "kernelspec": {
      "name": "python3",
      "display_name": "Python 3"
    },
    "language_info": {
      "name": "python"
    }
  },
  "cells": [
    {
      "cell_type": "markdown",
      "metadata": {
        "id": "view-in-github",
        "colab_type": "text"
      },
      "source": [
        "<a href=\"https://colab.research.google.com/github/dangspin/myExercise/blob/master/pdf_reader.ipynb\" target=\"_parent\"><img src=\"https://colab.research.google.com/assets/colab-badge.svg\" alt=\"Open In Colab\"/></a>"
      ]
    },
    {
      "cell_type": "markdown",
      "source": [
        "# 一个完整的例子\n",
        "\n",
        "这是该 `LangChain` 极简入门系列的最后一讲。我们将利用过去9讲学习的知识，来完成一个具备完整功能集的LLM应用。该应用基于 `LangChain` 框架，以某 `PDF` 文件的内容为知识库，提供给用户基于该文件内容的问答能力。\n",
        "\n",
        "我们利用 `LangChain` 的QA chain，结合 `Chroma` 来实现PDF文档的语义化搜索。示例代码所引用的是[AWS Serverless\n",
        "Developer Guide](https://docs.aws.amazon.com/pdfs/serverless/latest/devguide/serverless-core.pdf)，该PDF文档共84页。"
      ],
      "metadata": {
        "id": "69PRFT6WO-oK"
      }
    },
    {
      "cell_type": "markdown",
      "source": [
        "1. 安装必要的 `Python` 包"
      ],
      "metadata": {
        "id": "OBehQYkOPPWe"
      }
    },
    {
      "cell_type": "code",
      "source": [
        "!pip install -q langchain openai chromadb pymupdf tiktoken\n",
        "!pip install python-dotenv\n",
        "!pip install langchain\n",
        "!pip install PyPDF2\n",
        "!pip install openai langchain langchain-wenxin\n",
        "!pip install --user google-search-results\n",
        "# uncomment to use huggingface llms\n",
        "!pip install huggingface-hub==0.14.1\n",
        "\n",
        "# uncomment to use instructor embeddings\n",
        "!pip install InstructorEmbedding==1.0.1\n",
        "!pip install sentence-transformers==2.2.2\n",
        "!pip install faiss-cpu"
      ],
      "metadata": {
        "colab": {
          "base_uri": "https://localhost:8080/"
        },
        "id": "_amYPxT-PULc",
        "outputId": "af6b59e8-701b-4725-c9d6-e11765bbbece"
      },
      "execution_count": 35,
      "outputs": [
        {
          "output_type": "stream",
          "name": "stdout",
          "text": [
            "Requirement already satisfied: python-dotenv in /usr/local/lib/python3.10/dist-packages (1.0.0)\n",
            "Requirement already satisfied: langchain in /usr/local/lib/python3.10/dist-packages (0.0.310)\n",
            "Requirement already satisfied: PyYAML>=5.3 in /usr/local/lib/python3.10/dist-packages (from langchain) (6.0.1)\n",
            "Requirement already satisfied: SQLAlchemy<3,>=1.4 in /usr/local/lib/python3.10/dist-packages (from langchain) (2.0.21)\n",
            "Requirement already satisfied: aiohttp<4.0.0,>=3.8.3 in /usr/local/lib/python3.10/dist-packages (from langchain) (3.8.5)\n",
            "Requirement already satisfied: anyio<4.0 in /usr/local/lib/python3.10/dist-packages (from langchain) (3.7.1)\n",
            "Requirement already satisfied: async-timeout<5.0.0,>=4.0.0 in /usr/local/lib/python3.10/dist-packages (from langchain) (4.0.3)\n",
            "Requirement already satisfied: dataclasses-json<0.7,>=0.5.7 in /usr/local/lib/python3.10/dist-packages (from langchain) (0.6.1)\n",
            "Requirement already satisfied: jsonpatch<2.0,>=1.33 in /usr/local/lib/python3.10/dist-packages (from langchain) (1.33)\n",
            "Requirement already satisfied: langsmith<0.1.0,>=0.0.40 in /usr/local/lib/python3.10/dist-packages (from langchain) (0.0.43)\n",
            "Requirement already satisfied: numpy<2,>=1 in /usr/local/lib/python3.10/dist-packages (from langchain) (1.23.5)\n",
            "Requirement already satisfied: pydantic<3,>=1 in /usr/local/lib/python3.10/dist-packages (from langchain) (1.10.13)\n",
            "Requirement already satisfied: requests<3,>=2 in /usr/local/lib/python3.10/dist-packages (from langchain) (2.31.0)\n",
            "Requirement already satisfied: tenacity<9.0.0,>=8.1.0 in /usr/local/lib/python3.10/dist-packages (from langchain) (8.2.3)\n",
            "Requirement already satisfied: attrs>=17.3.0 in /usr/local/lib/python3.10/dist-packages (from aiohttp<4.0.0,>=3.8.3->langchain) (23.1.0)\n",
            "Requirement already satisfied: charset-normalizer<4.0,>=2.0 in /usr/local/lib/python3.10/dist-packages (from aiohttp<4.0.0,>=3.8.3->langchain) (3.3.0)\n",
            "Requirement already satisfied: multidict<7.0,>=4.5 in /usr/local/lib/python3.10/dist-packages (from aiohttp<4.0.0,>=3.8.3->langchain) (6.0.4)\n",
            "Requirement already satisfied: yarl<2.0,>=1.0 in /usr/local/lib/python3.10/dist-packages (from aiohttp<4.0.0,>=3.8.3->langchain) (1.9.2)\n",
            "Requirement already satisfied: frozenlist>=1.1.1 in /usr/local/lib/python3.10/dist-packages (from aiohttp<4.0.0,>=3.8.3->langchain) (1.4.0)\n",
            "Requirement already satisfied: aiosignal>=1.1.2 in /usr/local/lib/python3.10/dist-packages (from aiohttp<4.0.0,>=3.8.3->langchain) (1.3.1)\n",
            "Requirement already satisfied: idna>=2.8 in /usr/local/lib/python3.10/dist-packages (from anyio<4.0->langchain) (3.4)\n",
            "Requirement already satisfied: sniffio>=1.1 in /usr/local/lib/python3.10/dist-packages (from anyio<4.0->langchain) (1.3.0)\n",
            "Requirement already satisfied: exceptiongroup in /usr/local/lib/python3.10/dist-packages (from anyio<4.0->langchain) (1.1.3)\n",
            "Requirement already satisfied: marshmallow<4.0.0,>=3.18.0 in /usr/local/lib/python3.10/dist-packages (from dataclasses-json<0.7,>=0.5.7->langchain) (3.20.1)\n",
            "Requirement already satisfied: typing-inspect<1,>=0.4.0 in /usr/local/lib/python3.10/dist-packages (from dataclasses-json<0.7,>=0.5.7->langchain) (0.9.0)\n",
            "Requirement already satisfied: jsonpointer>=1.9 in /usr/local/lib/python3.10/dist-packages (from jsonpatch<2.0,>=1.33->langchain) (2.4)\n",
            "Requirement already satisfied: typing-extensions>=4.2.0 in /usr/local/lib/python3.10/dist-packages (from pydantic<3,>=1->langchain) (4.5.0)\n",
            "Requirement already satisfied: urllib3<3,>=1.21.1 in /usr/local/lib/python3.10/dist-packages (from requests<3,>=2->langchain) (2.0.6)\n",
            "Requirement already satisfied: certifi>=2017.4.17 in /usr/local/lib/python3.10/dist-packages (from requests<3,>=2->langchain) (2023.7.22)\n",
            "Requirement already satisfied: greenlet!=0.4.17 in /usr/local/lib/python3.10/dist-packages (from SQLAlchemy<3,>=1.4->langchain) (3.0.0)\n",
            "Requirement already satisfied: packaging>=17.0 in /usr/local/lib/python3.10/dist-packages (from marshmallow<4.0.0,>=3.18.0->dataclasses-json<0.7,>=0.5.7->langchain) (23.2)\n",
            "Requirement already satisfied: mypy-extensions>=0.3.0 in /usr/local/lib/python3.10/dist-packages (from typing-inspect<1,>=0.4.0->dataclasses-json<0.7,>=0.5.7->langchain) (1.0.0)\n",
            "Requirement already satisfied: PyPDF2 in /usr/local/lib/python3.10/dist-packages (3.0.1)\n",
            "Requirement already satisfied: openai in /usr/local/lib/python3.10/dist-packages (0.28.1)\n",
            "Requirement already satisfied: langchain in /usr/local/lib/python3.10/dist-packages (0.0.310)\n",
            "Requirement already satisfied: langchain-wenxin in /usr/local/lib/python3.10/dist-packages (0.9.1)\n",
            "Requirement already satisfied: requests>=2.20 in /usr/local/lib/python3.10/dist-packages (from openai) (2.31.0)\n",
            "Requirement already satisfied: tqdm in /usr/local/lib/python3.10/dist-packages (from openai) (4.66.1)\n",
            "Requirement already satisfied: aiohttp in /usr/local/lib/python3.10/dist-packages (from openai) (3.8.5)\n",
            "Requirement already satisfied: PyYAML>=5.3 in /usr/local/lib/python3.10/dist-packages (from langchain) (6.0.1)\n",
            "Requirement already satisfied: SQLAlchemy<3,>=1.4 in /usr/local/lib/python3.10/dist-packages (from langchain) (2.0.21)\n",
            "Requirement already satisfied: anyio<4.0 in /usr/local/lib/python3.10/dist-packages (from langchain) (3.7.1)\n",
            "Requirement already satisfied: async-timeout<5.0.0,>=4.0.0 in /usr/local/lib/python3.10/dist-packages (from langchain) (4.0.3)\n",
            "Requirement already satisfied: dataclasses-json<0.7,>=0.5.7 in /usr/local/lib/python3.10/dist-packages (from langchain) (0.6.1)\n",
            "Requirement already satisfied: jsonpatch<2.0,>=1.33 in /usr/local/lib/python3.10/dist-packages (from langchain) (1.33)\n",
            "Requirement already satisfied: langsmith<0.1.0,>=0.0.40 in /usr/local/lib/python3.10/dist-packages (from langchain) (0.0.43)\n",
            "Requirement already satisfied: numpy<2,>=1 in /usr/local/lib/python3.10/dist-packages (from langchain) (1.23.5)\n",
            "Requirement already satisfied: pydantic<3,>=1 in /usr/local/lib/python3.10/dist-packages (from langchain) (1.10.13)\n",
            "Requirement already satisfied: tenacity<9.0.0,>=8.1.0 in /usr/local/lib/python3.10/dist-packages (from langchain) (8.2.3)\n",
            "Requirement already satisfied: sseclient-py in /usr/local/lib/python3.10/dist-packages (from langchain-wenxin) (1.8.0)\n",
            "Requirement already satisfied: attrs>=17.3.0 in /usr/local/lib/python3.10/dist-packages (from aiohttp->openai) (23.1.0)\n",
            "Requirement already satisfied: charset-normalizer<4.0,>=2.0 in /usr/local/lib/python3.10/dist-packages (from aiohttp->openai) (3.3.0)\n",
            "Requirement already satisfied: multidict<7.0,>=4.5 in /usr/local/lib/python3.10/dist-packages (from aiohttp->openai) (6.0.4)\n",
            "Requirement already satisfied: yarl<2.0,>=1.0 in /usr/local/lib/python3.10/dist-packages (from aiohttp->openai) (1.9.2)\n",
            "Requirement already satisfied: frozenlist>=1.1.1 in /usr/local/lib/python3.10/dist-packages (from aiohttp->openai) (1.4.0)\n",
            "Requirement already satisfied: aiosignal>=1.1.2 in /usr/local/lib/python3.10/dist-packages (from aiohttp->openai) (1.3.1)\n",
            "Requirement already satisfied: idna>=2.8 in /usr/local/lib/python3.10/dist-packages (from anyio<4.0->langchain) (3.4)\n",
            "Requirement already satisfied: sniffio>=1.1 in /usr/local/lib/python3.10/dist-packages (from anyio<4.0->langchain) (1.3.0)\n",
            "Requirement already satisfied: exceptiongroup in /usr/local/lib/python3.10/dist-packages (from anyio<4.0->langchain) (1.1.3)\n",
            "Requirement already satisfied: marshmallow<4.0.0,>=3.18.0 in /usr/local/lib/python3.10/dist-packages (from dataclasses-json<0.7,>=0.5.7->langchain) (3.20.1)\n",
            "Requirement already satisfied: typing-inspect<1,>=0.4.0 in /usr/local/lib/python3.10/dist-packages (from dataclasses-json<0.7,>=0.5.7->langchain) (0.9.0)\n",
            "Requirement already satisfied: jsonpointer>=1.9 in /usr/local/lib/python3.10/dist-packages (from jsonpatch<2.0,>=1.33->langchain) (2.4)\n",
            "Requirement already satisfied: typing-extensions>=4.2.0 in /usr/local/lib/python3.10/dist-packages (from pydantic<3,>=1->langchain) (4.5.0)\n",
            "Requirement already satisfied: urllib3<3,>=1.21.1 in /usr/local/lib/python3.10/dist-packages (from requests>=2.20->openai) (2.0.6)\n",
            "Requirement already satisfied: certifi>=2017.4.17 in /usr/local/lib/python3.10/dist-packages (from requests>=2.20->openai) (2023.7.22)\n",
            "Requirement already satisfied: greenlet!=0.4.17 in /usr/local/lib/python3.10/dist-packages (from SQLAlchemy<3,>=1.4->langchain) (3.0.0)\n",
            "Requirement already satisfied: packaging>=17.0 in /usr/local/lib/python3.10/dist-packages (from marshmallow<4.0.0,>=3.18.0->dataclasses-json<0.7,>=0.5.7->langchain) (23.2)\n",
            "Requirement already satisfied: mypy-extensions>=0.3.0 in /usr/local/lib/python3.10/dist-packages (from typing-inspect<1,>=0.4.0->dataclasses-json<0.7,>=0.5.7->langchain) (1.0.0)\n",
            "Requirement already satisfied: google-search-results in /root/.local/lib/python3.10/site-packages (2.4.2)\n",
            "Requirement already satisfied: requests in /usr/local/lib/python3.10/dist-packages (from google-search-results) (2.31.0)\n",
            "Requirement already satisfied: charset-normalizer<4,>=2 in /usr/local/lib/python3.10/dist-packages (from requests->google-search-results) (3.3.0)\n",
            "Requirement already satisfied: idna<4,>=2.5 in /usr/local/lib/python3.10/dist-packages (from requests->google-search-results) (3.4)\n",
            "Requirement already satisfied: urllib3<3,>=1.21.1 in /usr/local/lib/python3.10/dist-packages (from requests->google-search-results) (2.0.6)\n",
            "Requirement already satisfied: certifi>=2017.4.17 in /usr/local/lib/python3.10/dist-packages (from requests->google-search-results) (2023.7.22)\n",
            "Collecting huggingface-hub==0.14.1\n",
            "  Using cached huggingface_hub-0.14.1-py3-none-any.whl (224 kB)\n",
            "Requirement already satisfied: filelock in /usr/local/lib/python3.10/dist-packages (from huggingface-hub==0.14.1) (3.12.4)\n",
            "Requirement already satisfied: fsspec in /usr/local/lib/python3.10/dist-packages (from huggingface-hub==0.14.1) (2023.6.0)\n",
            "Requirement already satisfied: requests in /usr/local/lib/python3.10/dist-packages (from huggingface-hub==0.14.1) (2.31.0)\n",
            "Requirement already satisfied: tqdm>=4.42.1 in /usr/local/lib/python3.10/dist-packages (from huggingface-hub==0.14.1) (4.66.1)\n",
            "Requirement already satisfied: pyyaml>=5.1 in /usr/local/lib/python3.10/dist-packages (from huggingface-hub==0.14.1) (6.0.1)\n",
            "Requirement already satisfied: typing-extensions>=3.7.4.3 in /usr/local/lib/python3.10/dist-packages (from huggingface-hub==0.14.1) (4.5.0)\n",
            "Requirement already satisfied: packaging>=20.9 in /usr/local/lib/python3.10/dist-packages (from huggingface-hub==0.14.1) (23.2)\n",
            "Requirement already satisfied: charset-normalizer<4,>=2 in /usr/local/lib/python3.10/dist-packages (from requests->huggingface-hub==0.14.1) (3.3.0)\n",
            "Requirement already satisfied: idna<4,>=2.5 in /usr/local/lib/python3.10/dist-packages (from requests->huggingface-hub==0.14.1) (3.4)\n",
            "Requirement already satisfied: urllib3<3,>=1.21.1 in /usr/local/lib/python3.10/dist-packages (from requests->huggingface-hub==0.14.1) (2.0.6)\n",
            "Requirement already satisfied: certifi>=2017.4.17 in /usr/local/lib/python3.10/dist-packages (from requests->huggingface-hub==0.14.1) (2023.7.22)\n",
            "Installing collected packages: huggingface-hub\n",
            "  Attempting uninstall: huggingface-hub\n",
            "    Found existing installation: huggingface-hub 0.17.3\n",
            "    Uninstalling huggingface-hub-0.17.3:\n",
            "      Successfully uninstalled huggingface-hub-0.17.3\n",
            "\u001b[31mERROR: pip's dependency resolver does not currently take into account all the packages that are installed. This behaviour is the source of the following dependency conflicts.\n",
            "tokenizers 0.14.1 requires huggingface_hub<0.18,>=0.16.4, but you have huggingface-hub 0.14.1 which is incompatible.\n",
            "transformers 4.34.0 requires huggingface-hub<1.0,>=0.16.4, but you have huggingface-hub 0.14.1 which is incompatible.\u001b[0m\u001b[31m\n",
            "\u001b[0mSuccessfully installed huggingface-hub-0.14.1\n",
            "Requirement already satisfied: InstructorEmbedding==1.0.1 in /usr/local/lib/python3.10/dist-packages (1.0.1)\n",
            "Requirement already satisfied: sentence-transformers==2.2.2 in /usr/local/lib/python3.10/dist-packages (2.2.2)\n",
            "Requirement already satisfied: transformers<5.0.0,>=4.6.0 in /usr/local/lib/python3.10/dist-packages (from sentence-transformers==2.2.2) (4.34.0)\n",
            "Requirement already satisfied: tqdm in /usr/local/lib/python3.10/dist-packages (from sentence-transformers==2.2.2) (4.66.1)\n",
            "Requirement already satisfied: torch>=1.6.0 in /usr/local/lib/python3.10/dist-packages (from sentence-transformers==2.2.2) (2.0.1+cu118)\n",
            "Requirement already satisfied: torchvision in /usr/local/lib/python3.10/dist-packages (from sentence-transformers==2.2.2) (0.15.2+cu118)\n",
            "Requirement already satisfied: numpy in /usr/local/lib/python3.10/dist-packages (from sentence-transformers==2.2.2) (1.23.5)\n",
            "Requirement already satisfied: scikit-learn in /usr/local/lib/python3.10/dist-packages (from sentence-transformers==2.2.2) (1.2.2)\n",
            "Requirement already satisfied: scipy in /usr/local/lib/python3.10/dist-packages (from sentence-transformers==2.2.2) (1.11.3)\n",
            "Requirement already satisfied: nltk in /usr/local/lib/python3.10/dist-packages (from sentence-transformers==2.2.2) (3.8.1)\n",
            "Requirement already satisfied: sentencepiece in /usr/local/lib/python3.10/dist-packages (from sentence-transformers==2.2.2) (0.1.99)\n",
            "Requirement already satisfied: huggingface-hub>=0.4.0 in /usr/local/lib/python3.10/dist-packages (from sentence-transformers==2.2.2) (0.14.1)\n",
            "Requirement already satisfied: filelock in /usr/local/lib/python3.10/dist-packages (from huggingface-hub>=0.4.0->sentence-transformers==2.2.2) (3.12.4)\n",
            "Requirement already satisfied: fsspec in /usr/local/lib/python3.10/dist-packages (from huggingface-hub>=0.4.0->sentence-transformers==2.2.2) (2023.6.0)\n",
            "Requirement already satisfied: requests in /usr/local/lib/python3.10/dist-packages (from huggingface-hub>=0.4.0->sentence-transformers==2.2.2) (2.31.0)\n",
            "Requirement already satisfied: pyyaml>=5.1 in /usr/local/lib/python3.10/dist-packages (from huggingface-hub>=0.4.0->sentence-transformers==2.2.2) (6.0.1)\n",
            "Requirement already satisfied: typing-extensions>=3.7.4.3 in /usr/local/lib/python3.10/dist-packages (from huggingface-hub>=0.4.0->sentence-transformers==2.2.2) (4.5.0)\n",
            "Requirement already satisfied: packaging>=20.9 in /usr/local/lib/python3.10/dist-packages (from huggingface-hub>=0.4.0->sentence-transformers==2.2.2) (23.2)\n",
            "Requirement already satisfied: sympy in /usr/local/lib/python3.10/dist-packages (from torch>=1.6.0->sentence-transformers==2.2.2) (1.12)\n",
            "Requirement already satisfied: networkx in /usr/local/lib/python3.10/dist-packages (from torch>=1.6.0->sentence-transformers==2.2.2) (3.1)\n",
            "Requirement already satisfied: jinja2 in /usr/local/lib/python3.10/dist-packages (from torch>=1.6.0->sentence-transformers==2.2.2) (3.1.2)\n",
            "Requirement already satisfied: triton==2.0.0 in /usr/local/lib/python3.10/dist-packages (from torch>=1.6.0->sentence-transformers==2.2.2) (2.0.0)\n",
            "Requirement already satisfied: cmake in /usr/local/lib/python3.10/dist-packages (from triton==2.0.0->torch>=1.6.0->sentence-transformers==2.2.2) (3.27.6)\n",
            "Requirement already satisfied: lit in /usr/local/lib/python3.10/dist-packages (from triton==2.0.0->torch>=1.6.0->sentence-transformers==2.2.2) (17.0.2)\n",
            "Collecting huggingface-hub>=0.4.0 (from sentence-transformers==2.2.2)\n",
            "  Using cached huggingface_hub-0.17.3-py3-none-any.whl (295 kB)\n",
            "Requirement already satisfied: regex!=2019.12.17 in /usr/local/lib/python3.10/dist-packages (from transformers<5.0.0,>=4.6.0->sentence-transformers==2.2.2) (2023.6.3)\n",
            "Requirement already satisfied: tokenizers<0.15,>=0.14 in /usr/local/lib/python3.10/dist-packages (from transformers<5.0.0,>=4.6.0->sentence-transformers==2.2.2) (0.14.1)\n",
            "Requirement already satisfied: safetensors>=0.3.1 in /usr/local/lib/python3.10/dist-packages (from transformers<5.0.0,>=4.6.0->sentence-transformers==2.2.2) (0.4.0)\n",
            "Requirement already satisfied: click in /usr/local/lib/python3.10/dist-packages (from nltk->sentence-transformers==2.2.2) (8.1.7)\n",
            "Requirement already satisfied: joblib in /usr/local/lib/python3.10/dist-packages (from nltk->sentence-transformers==2.2.2) (1.3.2)\n",
            "Requirement already satisfied: threadpoolctl>=2.0.0 in /usr/local/lib/python3.10/dist-packages (from scikit-learn->sentence-transformers==2.2.2) (3.2.0)\n",
            "Requirement already satisfied: pillow!=8.3.*,>=5.3.0 in /usr/local/lib/python3.10/dist-packages (from torchvision->sentence-transformers==2.2.2) (9.4.0)\n",
            "Requirement already satisfied: MarkupSafe>=2.0 in /usr/local/lib/python3.10/dist-packages (from jinja2->torch>=1.6.0->sentence-transformers==2.2.2) (2.1.3)\n",
            "Requirement already satisfied: charset-normalizer<4,>=2 in /usr/local/lib/python3.10/dist-packages (from requests->huggingface-hub>=0.4.0->sentence-transformers==2.2.2) (3.3.0)\n",
            "Requirement already satisfied: idna<4,>=2.5 in /usr/local/lib/python3.10/dist-packages (from requests->huggingface-hub>=0.4.0->sentence-transformers==2.2.2) (3.4)\n",
            "Requirement already satisfied: urllib3<3,>=1.21.1 in /usr/local/lib/python3.10/dist-packages (from requests->huggingface-hub>=0.4.0->sentence-transformers==2.2.2) (2.0.6)\n",
            "Requirement already satisfied: certifi>=2017.4.17 in /usr/local/lib/python3.10/dist-packages (from requests->huggingface-hub>=0.4.0->sentence-transformers==2.2.2) (2023.7.22)\n",
            "Requirement already satisfied: mpmath>=0.19 in /usr/local/lib/python3.10/dist-packages (from sympy->torch>=1.6.0->sentence-transformers==2.2.2) (1.3.0)\n",
            "Installing collected packages: huggingface-hub\n",
            "  Attempting uninstall: huggingface-hub\n",
            "    Found existing installation: huggingface-hub 0.14.1\n",
            "    Uninstalling huggingface-hub-0.14.1:\n",
            "      Successfully uninstalled huggingface-hub-0.14.1\n",
            "Successfully installed huggingface-hub-0.17.3\n",
            "Requirement already satisfied: faiss-cpu in /usr/local/lib/python3.10/dist-packages (1.7.4)\n"
          ]
        }
      ]
    },
    {
      "cell_type": "markdown",
      "source": [
        "2. 设置OpenAI环境"
      ],
      "metadata": {
        "id": "8Hihrnw_PeIA"
      }
    },
    {
      "cell_type": "code",
      "source": [
        "import os\n",
        "\n",
        "os.environ['BAIDU_API_KEY'] = \"LwQe70WdQsGKc0E3kdTRt1hk\"\n",
        "os.environ['BAIDU_SECRET_KEY'] = \"McdLiQw6DBdC7zDuNYGkVX4nGg99CwIV\""
      ],
      "metadata": {
        "id": "RS8agW03EJ7C"
      },
      "execution_count": 36,
      "outputs": []
    },
    {
      "cell_type": "code",
      "source": [
        "from langchain_wenxin import Wenxin\n",
        "\n",
        "\n",
        "llm = Wenxin(\n",
        "    temperature=0.9,\n",
        "    model=\"ernie-bot-turbo\",\n",
        "    verbose=True,\n",
        ")"
      ],
      "metadata": {
        "id": "dALQoneUPgEH"
      },
      "execution_count": 37,
      "outputs": []
    },
    {
      "cell_type": "markdown",
      "source": [
        "3. 下载PDF文件AWS Serverless Developer Guide"
      ],
      "metadata": {
        "id": "8aB0OBRFP5FC"
      }
    },
    {
      "cell_type": "code",
      "source": [
        "!wget https://docs.aws.amazon.com/pdfs/serverless/latest/devguide/serverless-core.pdf\n",
        "\n",
        "PDF_NAME = 'sunshine.pdf'"
      ],
      "metadata": {
        "colab": {
          "base_uri": "https://localhost:8080/"
        },
        "id": "zF-PFO9BP6wr",
        "outputId": "a427673d-22dd-4bac-8cdf-878ba8198a06"
      },
      "execution_count": 38,
      "outputs": [
        {
          "output_type": "stream",
          "name": "stdout",
          "text": [
            "--2023-10-09 02:36:02--  https://docs.aws.amazon.com/pdfs/serverless/latest/devguide/serverless-core.pdf\n",
            "Resolving docs.aws.amazon.com (docs.aws.amazon.com)... 65.8.248.16, 65.8.248.109, 65.8.248.56, ...\n",
            "Connecting to docs.aws.amazon.com (docs.aws.amazon.com)|65.8.248.16|:443... connected.\n",
            "HTTP request sent, awaiting response... 200 OK\n",
            "Length: 4733257 (4.5M) [application/pdf]\n",
            "Saving to: ‘serverless-core.pdf.1’\n",
            "\n",
            "serverless-core.pdf 100%[===================>]   4.51M  8.22MB/s    in 0.5s    \n",
            "\n",
            "2023-10-09 02:36:03 (8.22 MB/s) - ‘serverless-core.pdf.1’ saved [4733257/4733257]\n",
            "\n"
          ]
        }
      ]
    },
    {
      "cell_type": "markdown",
      "source": [
        "4. 加载PDF文件"
      ],
      "metadata": {
        "id": "WqBDCt0HQFAA"
      }
    },
    {
      "cell_type": "code",
      "source": [
        "from langchain.document_loaders import PyMuPDFLoader\n",
        "docs = PyMuPDFLoader(PDF_NAME).load()\n",
        "\n",
        "print (f'There are {len(docs)} document(s) in {PDF_NAME}.')\n",
        "print (f'There are {len(docs[0].page_content)} characters in the first page of your document.')"
      ],
      "metadata": {
        "colab": {
          "base_uri": "https://localhost:8080/"
        },
        "id": "bniPzdhUQSlw",
        "outputId": "d8120e7d-b684-4c6f-c9e6-1bf38a70454f"
      },
      "execution_count": 39,
      "outputs": [
        {
          "output_type": "stream",
          "name": "stdout",
          "text": [
            "There are 43 document(s) in sunshine.pdf.\n",
            "There are 1372 characters in the first page of your document.\n"
          ]
        }
      ]
    },
    {
      "cell_type": "markdown",
      "source": [
        "5. 拆分文档并存储文本嵌入的向量数据"
      ],
      "metadata": {
        "id": "V9kvXY9uQ1mI"
      }
    },
    {
      "cell_type": "code",
      "source": [
        "# from langchain.embeddings.openai import OpenAIEmbeddings\n",
        "# from langchain.text_splitter import RecursiveCharacterTextSplitter\n",
        "# from langchain.vectorstores import Chroma\n",
        "# from langchain.embeddings import HuggingFaceEmbeddings\n",
        "\n",
        "# model_name = \"shibing624/text2vec-base-chinese\"\n",
        "\n",
        "# text_splitter = RecursiveCharacterTextSplitter(chunk_size=1000, chunk_overlap=200)\n",
        "# split_docs = text_splitter.split_documents(docs)\n",
        "\n",
        "# embeddings = HuggingFaceEmbeddings(model_name=model_name)\n",
        "\n",
        "# vectorstore = Chroma.from_documents(split_docs, embeddings, collection_name=\"serverless_guide\")"
      ],
      "metadata": {
        "id": "G4d8cwQTQ2fa"
      },
      "execution_count": null,
      "outputs": []
    },
    {
      "cell_type": "code",
      "source": [
        "from langchain_wenxin.embeddings import WenxinEmbeddings\n",
        "from langchain.text_splitter import RecursiveCharacterTextSplitter\n",
        "from langchain.vectorstores import Chroma\n",
        "\n",
        "wenxin_embed = WenxinEmbeddings(truncate=\"END\")\n",
        "\n",
        "text_splitter = RecursiveCharacterTextSplitter(chunk_size=1000, chunk_overlap=200)\n",
        "split_docs = text_splitter.split_documents(docs)\n",
        "\n",
        "vectorstore = Chroma.from_documents(split_docs, wenxin_embed, collection_name=\"serverless_guide\")"
      ],
      "metadata": {
        "id": "tChzSFT5FgF1"
      },
      "execution_count": 40,
      "outputs": []
    },
    {
      "cell_type": "markdown",
      "source": [
        "6. 基于OpenAI创建QA链"
      ],
      "metadata": {
        "id": "-T6_mIR8RwEF"
      }
    },
    {
      "cell_type": "code",
      "source": [
        "from langchain.llms import OpenAI\n",
        "from langchain.chains.question_answering import load_qa_chain\n",
        "\n",
        "# llm = OpenAI(temperature=0)\n",
        "chain = load_qa_chain(llm, chain_type=\"stuff\")"
      ],
      "metadata": {
        "id": "BsW99LnUR2Ns"
      },
      "execution_count": 41,
      "outputs": []
    },
    {
      "cell_type": "markdown",
      "source": [
        "7. 基于提问，进行相似性查询"
      ],
      "metadata": {
        "id": "ED54hPgfSXYL"
      }
    },
    {
      "cell_type": "code",
      "source": [
        "query = \"本产品当中，原位癌需如何定义的?\"\n",
        "similar_docs = vectorstore.similarity_search(query, 3, include_metadata=True)"
      ],
      "metadata": {
        "id": "bPmKM4zXSam9"
      },
      "execution_count": 63,
      "outputs": []
    },
    {
      "cell_type": "code",
      "source": [
        "similar_docs"
      ],
      "metadata": {
        "colab": {
          "base_uri": "https://localhost:8080/"
        },
        "id": "DNog2ekVSxPa",
        "outputId": "7aaa1285-5550-4844-d04d-988cbfb8eeb3"
      },
      "execution_count": 64,
      "outputs": [
        {
          "output_type": "execute_result",
          "data": {
            "text/plain": [
              "[Document(page_content='多倍保障重大疾病保险条款                                                    新华人寿保险股份有限公司 \\n55520161                                                                             第 10 页[共 33 页] \\n注：原位癌指恶性细胞局限于上皮内尚未穿破基底膜浸润周围正常组织的癌\\n细胞新生物。被保险人必须经对固定活组织的组织病理学检查明确诊断为原位癌，\\n且已经接受了针对原位癌病灶的积极治疗。 \\n \\n \\n \\n \\n6.4.2\\n侵\\n蚀 性 葡 萄\\n胎 \\n指异常增生的绒毛组织浸润性生长侵入子宫肌层或转移至其他器官或组织的\\n葡萄胎，经组织病理学检查明确诊断并已经进行化疗或手术治疗的。 \\n \\n \\n \\n \\n6.4.3\\n不\\n典 型 的 急\\n性 心 肌 梗\\n塞 \\n指被临床诊断为急性心肌梗塞并接受了急性心肌梗塞治疗，且满足下列全部\\n条件，但未达到本合同所指重大疾病“急性心肌梗塞”的标准： \\n（1）心肌酶或肌钙蛋白有诊断意义的升高； \\n（2）心电图有损伤性的 ST 段改变但未出现病理 Q 波。 \\n \\n \\n \\n \\n6.4.4\\n冠\\n状 动 脉 介\\n入手术 \\n指为了治疗明显的冠状动脉狭窄性疾病，首次实际实施了冠状动脉球囊扩张\\n成形术、冠状动脉支架植入术、冠状动脉粥样斑块切除术或激光冠状动脉成形术。 \\n被保险人已达到本合同所指重大疾病“急性心肌梗塞”或“严重冠心病”标\\n准的，本公司不承担本项手术保险责任。 \\n本公司仅对本条“冠状动脉介入手术”、6.4.8 条“微创冠状动脉搭桥术”和\\n6.4.14 条“激光心肌血运重建术”三项中的其中一项承担保险责任，给付其中一\\n项保险金后，对其他两项轻症疾病保险责任同时终止。 \\n \\n \\n \\n \\n6.4.5\\n心\\n脏 瓣 膜 介\\n入手术 \\n指为了治疗心脏瓣膜疾病，实际实施了非开胸的经胸壁打孔内镜手术或经皮\\n经导管介入手术进行的心脏瓣膜置换或修复手术。 \\n实施开胸心脏瓣膜置换或修复手术的，本公司不承担本项手术保险责任。 \\n \\n \\n \\n \\n6.4.6\\n轻\\n度 原 发 性\\n肺 动 脉 高\\n压 \\n指由于原发性肺动脉高压进行性发展而导致右心室肥厚，已经造成永久不可', metadata={'author': '', 'creationDate': \"D:20160330173335+08'00'\", 'creator': '', 'file_path': 'ncl_555.pdf', 'format': 'PDF 1.3', 'keywords': '', 'modDate': \"D:20211117134915+08'00'\", 'page': 9, 'producer': 'Foxit PDF Creator Version 3.0.1.0109', 'source': 'ncl_555.pdf', 'subject': '', 'title': '', 'total_pages': 33, 'trapped': ''}),\n",
              " Document(page_content='41-5\\n（1）必须经对固定活组织的组织病理学检查明确诊断，属于世界卫生组织《疾病\\n和有关健康问题的国际统计分类》（ICD-10）的原位癌范畴（D00-D09）;\\n（2）被保险人必须已经接受了针对原位癌病灶的手术治疗。\\n3.2.5\\n冠 状 动脉\\n介 入 手术\\n（ 非 切开\\n心 包 手\\n术）\\n为了治疗明显的冠状动脉狭窄性疾病，首次实际实施了非切开心包的冠状动脉介\\n入手术，包括冠状动脉球囊扩张成形术、冠状动脉支架植入术、冠状动脉粥样斑\\n块切除术或激光冠状动脉成形术，但未达到“较重急性心肌梗死”或“严重冠心\\n病”的给付标准。\\n本公司对“较轻急性心肌梗死”、“冠状动脉介入手术（非切开心包手术）”和“激\\n光心肌血运重建术”三项中的其中一项承担保险责任，给付其中一项保险金后，\\n对其他两项保险责任同时终止。\\n3.2.6\\n主 动 脉内\\n手术\\n为了治疗主动脉疾病实际实施了经皮经导管进行的主动脉内手术，但未达到“主\\n动脉手术”的给付标准。主动脉指升主动脉、主动脉弓和降主动脉（含胸主动脉\\n和腹主动脉），不包括升主动脉、主动脉弓和降主动脉的分支血管。\\n3.2.7\\n脑 垂 体\\n瘤 、 脑囊\\n肿 、 脑动\\n脉 瘤 及脑\\n血管瘤\\n指经头颅断层扫描（CT）、核磁共振（MRI）或其他影像学检查被确诊为下列病\\n变，并实际实施了手术或放射治疗，但未达到“颅脑手术”的给付标准：\\n（1）脑垂体瘤；\\n（2）脑囊肿；\\n（3）脑动脉瘤、脑血管瘤。\\n本公司对“脑垂体瘤、脑囊肿、脑动脉瘤及脑血管瘤”、“植入大脑内分流器” 两\\n项中的其中一项承担保险责任，给付其中一项保险金后，对另一项保险责任同时\\n终止。\\n3.2.8\\n角膜移植\\n指为增进视力或治疗某些角膜疾患，实际实施了异体的角膜移植手术。\\n此手术必须由我们认可的医院专科医生认为是医疗必须的情况下进行。\\n本公司对“角膜移植”、“视力严重受损”、“单眼失明”、“糖尿病视网膜晚期增生\\n性病变”四项中的其中一项承担保险责任，给付其中一项保险金后，对其他三项\\n保险责任同时终止。\\n3.2.9\\n视 力 严重\\n受损\\n指因疾病或意外伤害导致双目视力永久不可逆（见11.25）性丧失，但未达到“双\\n目失明”的给付标准，须满足下列全部条件：\\n（1）双眼中较好眼矫正视力低于0.1（采用国际标准视力表，如果使用其他视力\\n表应进行换算）；\\n（2）双眼中较好眼视野半径小于20度。', metadata={'author': 'liyang-lhq', 'creationDate': \"D:20210325095633+01'56'\", 'creator': 'WPS Office', 'file_path': 'sunshine.pdf', 'format': 'PDF 1.7', 'keywords': '', 'modDate': \"D:20210325095633+01'56'\", 'page': 6, 'producer': '', 'source': 'sunshine.pdf', 'subject': '', 'title': '', 'total_pages': 43, 'trapped': ''}),\n",
              " Document(page_content='方式获取病变细胞，制成涂片，进行病理检查的方法，属于细胞病理学检查，不\\n属于组织病理学检查。\\n11.20\\nICD-10 与\\nICD-O-3\\n《疾病和有关健康问题的国际统计分类》第十次修订版（ICD-10），是世界卫生\\n组织（WHO）发布的国际通用的疾病分类方法。《国际疾病分类肿瘤学专辑》第\\n三版（ICD-O-3），是 WHO 发布的针对 ICD 中肿瘤形态学组织学细胞类型、动\\n态、分化程度的补充编码。其中形态学编码：0 代表良性肿瘤；1 代表动态未定\\n性肿瘤；2 代表原位癌和非侵袭性癌；3 代表恶性肿瘤（原发性）；6 代表恶性肿\\n瘤（转移性）；9 代表恶性肿瘤（原发性或转移性未肯定）。如果出现 ICD-10 与\\nICD-O-3 不一致的情况，以 ICD-O-3 为准。\\n11.21\\nTNM 分期\\nTNM 分期采用 AJCC 癌症分期手册标准。该标准由美国癌症联合委员会与国际', metadata={'author': 'liyang-lhq', 'creationDate': \"D:20210325095633+01'56'\", 'creator': 'WPS Office', 'file_path': 'sunshine.pdf', 'format': 'PDF 1.7', 'keywords': '', 'modDate': \"D:20210325095633+01'56'\", 'page': 39, 'producer': '', 'source': 'sunshine.pdf', 'subject': '', 'title': '', 'total_pages': 43, 'trapped': ''})]"
            ]
          },
          "metadata": {},
          "execution_count": 64
        }
      ]
    },
    {
      "cell_type": "markdown",
      "source": [
        "8. 基于相关文档，利用QA链完成回答"
      ],
      "metadata": {
        "id": "1XecjykTSnve"
      }
    },
    {
      "cell_type": "code",
      "source": [
        "print(chain.run(input_documents=similar_docs, question=query))"
      ],
      "metadata": {
        "colab": {
          "base_uri": "https://localhost:8080/"
        },
        "id": "E4YOeM8aSuEY",
        "outputId": "dcb95554-6a99-4a30-d915-f054e46ee230"
      },
      "execution_count": 65,
      "outputs": [
        {
          "output_type": "stream",
          "name": "stdout",
          "text": [
            "根据原文中的描述，原位癌指恶性细胞局限于上皮内尚未穿破基底膜浸润周围正常组织的癌细胞新生物。被保险人必须经对固定活组织的组织病理学检查明确诊断为原位癌，且已经接受了针对原位癌病灶的积极治疗。因此，在产品中，原位癌需要被保险人经对固定活组织的组织病理学检查明确诊断为原位癌，且已经接受了针对原位癌病灶的手术治疗。\n"
          ]
        }
      ]
    },
    {
      "cell_type": "code",
      "source": [],
      "metadata": {
        "id": "eQ0zv5OXKGpN"
      },
      "execution_count": null,
      "outputs": []
    }
  ]
}
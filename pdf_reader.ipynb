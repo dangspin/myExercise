{
  "nbformat": 4,
  "nbformat_minor": 0,
  "metadata": {
    "colab": {
      "provenance": [],
      "include_colab_link": true
    },
    "kernelspec": {
      "name": "python3",
      "display_name": "Python 3"
    },
    "language_info": {
      "name": "python"
    }
  },
  "cells": [
    {
      "cell_type": "markdown",
      "metadata": {
        "id": "view-in-github",
        "colab_type": "text"
      },
      "source": [
        "<a href=\"https://colab.research.google.com/github/dangspin/myExercise/blob/master/pdf_reader.ipynb\" target=\"_parent\"><img src=\"https://colab.research.google.com/assets/colab-badge.svg\" alt=\"Open In Colab\"/></a>"
      ]
    },
    {
      "cell_type": "markdown",
      "source": [
        "# 一个完整的例子\n",
        "\n",
        "这是该 `LangChain` 极简入门系列的最后一讲。我们将利用过去9讲学习的知识，来完成一个具备完整功能集的LLM应用。该应用基于 `LangChain` 框架，以某 `PDF` 文件的内容为知识库，提供给用户基于该文件内容的问答能力。\n",
        "\n",
        "我们利用 `LangChain` 的QA chain，结合 `Chroma` 来实现PDF文档的语义化搜索。示例代码所引用的是[AWS Serverless\n",
        "Developer Guide](https://docs.aws.amazon.com/pdfs/serverless/latest/devguide/serverless-core.pdf)，该PDF文档共84页。"
      ],
      "metadata": {
        "id": "69PRFT6WO-oK"
      }
    },
    {
      "cell_type": "markdown",
      "source": [
        "1. 安装必要的 `Python` 包"
      ],
      "metadata": {
        "id": "OBehQYkOPPWe"
      }
    },
    {
      "cell_type": "code",
      "source": [
        "!pip install -q langchain openai chromadb pymupdf tiktoken\n",
        "!pip install python-dotenv\n",
        "!pip install langchain\n",
        "!pip install PyPDF2\n",
        "!pip install openai langchain langchain-wenxin\n",
        "!pip install --user google-search-results\n",
        "# uncomment to use huggingface llms\n",
        "!pip install huggingface-hub==0.14.1\n",
        "\n",
        "# uncomment to use instructor embeddings\n",
        "!pip install InstructorEmbedding==1.0.1\n",
        "!pip install sentence-transformers==2.2.2\n",
        "!pip install faiss-cpu"
      ],
      "metadata": {
        "colab": {
          "base_uri": "https://localhost:8080/"
        },
        "id": "_amYPxT-PULc",
        "outputId": "af6b59e8-701b-4725-c9d6-e11765bbbece"
      },
      "execution_count": 35,
      "outputs": [
        {
          "output_type": "stream",
          "name": "stdout",
          "text": [
            "Requirement already satisfied: python-dotenv in /usr/local/lib/python3.10/dist-packages (1.0.0)\n",
            "Requirement already satisfied: langchain in /usr/local/lib/python3.10/dist-packages (0.0.310)\n",
            "Requirement already satisfied: PyYAML>=5.3 in /usr/local/lib/python3.10/dist-packages (from langchain) (6.0.1)\n",
            "Requirement already satisfied: SQLAlchemy<3,>=1.4 in /usr/local/lib/python3.10/dist-packages (from langchain) (2.0.21)\n",
            "Requirement already satisfied: aiohttp<4.0.0,>=3.8.3 in /usr/local/lib/python3.10/dist-packages (from langchain) (3.8.5)\n",
            "Requirement already satisfied: anyio<4.0 in /usr/local/lib/python3.10/dist-packages (from langchain) (3.7.1)\n",
            "Requirement already satisfied: async-timeout<5.0.0,>=4.0.0 in /usr/local/lib/python3.10/dist-packages (from langchain) (4.0.3)\n",
            "Requirement already satisfied: dataclasses-json<0.7,>=0.5.7 in /usr/local/lib/python3.10/dist-packages (from langchain) (0.6.1)\n",
            "Requirement already satisfied: jsonpatch<2.0,>=1.33 in /usr/local/lib/python3.10/dist-packages (from langchain) (1.33)\n",
            "Requirement already satisfied: langsmith<0.1.0,>=0.0.40 in /usr/local/lib/python3.10/dist-packages (from langchain) (0.0.43)\n",
            "Requirement already satisfied: numpy<2,>=1 in /usr/local/lib/python3.10/dist-packages (from langchain) (1.23.5)\n",
            "Requirement already satisfied: pydantic<3,>=1 in /usr/local/lib/python3.10/dist-packages (from langchain) (1.10.13)\n",
            "Requirement already satisfied: requests<3,>=2 in /usr/local/lib/python3.10/dist-packages (from langchain) (2.31.0)\n",
            "Requirement already satisfied: tenacity<9.0.0,>=8.1.0 in /usr/local/lib/python3.10/dist-packages (from langchain) (8.2.3)\n",
            "Requirement already satisfied: attrs>=17.3.0 in /usr/local/lib/python3.10/dist-packages (from aiohttp<4.0.0,>=3.8.3->langchain) (23.1.0)\n",
            "Requirement already satisfied: charset-normalizer<4.0,>=2.0 in /usr/local/lib/python3.10/dist-packages (from aiohttp<4.0.0,>=3.8.3->langchain) (3.3.0)\n",
            "Requirement already satisfied: multidict<7.0,>=4.5 in /usr/local/lib/python3.10/dist-packages (from aiohttp<4.0.0,>=3.8.3->langchain) (6.0.4)\n",
            "Requirement already satisfied: yarl<2.0,>=1.0 in /usr/local/lib/python3.10/dist-packages (from aiohttp<4.0.0,>=3.8.3->langchain) (1.9.2)\n",
            "Requirement already satisfied: frozenlist>=1.1.1 in /usr/local/lib/python3.10/dist-packages (from aiohttp<4.0.0,>=3.8.3->langchain) (1.4.0)\n",
            "Requirement already satisfied: aiosignal>=1.1.2 in /usr/local/lib/python3.10/dist-packages (from aiohttp<4.0.0,>=3.8.3->langchain) (1.3.1)\n",
            "Requirement already satisfied: idna>=2.8 in /usr/local/lib/python3.10/dist-packages (from anyio<4.0->langchain) (3.4)\n",
            "Requirement already satisfied: sniffio>=1.1 in /usr/local/lib/python3.10/dist-packages (from anyio<4.0->langchain) (1.3.0)\n",
            "Requirement already satisfied: exceptiongroup in /usr/local/lib/python3.10/dist-packages (from anyio<4.0->langchain) (1.1.3)\n",
            "Requirement already satisfied: marshmallow<4.0.0,>=3.18.0 in /usr/local/lib/python3.10/dist-packages (from dataclasses-json<0.7,>=0.5.7->langchain) (3.20.1)\n",
            "Requirement already satisfied: typing-inspect<1,>=0.4.0 in /usr/local/lib/python3.10/dist-packages (from dataclasses-json<0.7,>=0.5.7->langchain) (0.9.0)\n",
            "Requirement already satisfied: jsonpointer>=1.9 in /usr/local/lib/python3.10/dist-packages (from jsonpatch<2.0,>=1.33->langchain) (2.4)\n",
            "Requirement already satisfied: typing-extensions>=4.2.0 in /usr/local/lib/python3.10/dist-packages (from pydantic<3,>=1->langchain) (4.5.0)\n",
            "Requirement already satisfied: urllib3<3,>=1.21.1 in /usr/local/lib/python3.10/dist-packages (from requests<3,>=2->langchain) (2.0.6)\n",
            "Requirement already satisfied: certifi>=2017.4.17 in /usr/local/lib/python3.10/dist-packages (from requests<3,>=2->langchain) (2023.7.22)\n",
            "Requirement already satisfied: greenlet!=0.4.17 in /usr/local/lib/python3.10/dist-packages (from SQLAlchemy<3,>=1.4->langchain) (3.0.0)\n",
            "Requirement already satisfied: packaging>=17.0 in /usr/local/lib/python3.10/dist-packages (from marshmallow<4.0.0,>=3.18.0->dataclasses-json<0.7,>=0.5.7->langchain) (23.2)\n",
            "Requirement already satisfied: mypy-extensions>=0.3.0 in /usr/local/lib/python3.10/dist-packages (from typing-inspect<1,>=0.4.0->dataclasses-json<0.7,>=0.5.7->langchain) (1.0.0)\n",
            "Requirement already satisfied: PyPDF2 in /usr/local/lib/python3.10/dist-packages (3.0.1)\n",
            "Requirement already satisfied: openai in /usr/local/lib/python3.10/dist-packages (0.28.1)\n",
            "Requirement already satisfied: langchain in /usr/local/lib/python3.10/dist-packages (0.0.310)\n",
            "Requirement already satisfied: langchain-wenxin in /usr/local/lib/python3.10/dist-packages (0.9.1)\n",
            "Requirement already satisfied: requests>=2.20 in /usr/local/lib/python3.10/dist-packages (from openai) (2.31.0)\n",
            "Requirement already satisfied: tqdm in /usr/local/lib/python3.10/dist-packages (from openai) (4.66.1)\n",
            "Requirement already satisfied: aiohttp in /usr/local/lib/python3.10/dist-packages (from openai) (3.8.5)\n",
            "Requirement already satisfied: PyYAML>=5.3 in /usr/local/lib/python3.10/dist-packages (from langchain) (6.0.1)\n",
            "Requirement already satisfied: SQLAlchemy<3,>=1.4 in /usr/local/lib/python3.10/dist-packages (from langchain) (2.0.21)\n",
            "Requirement already satisfied: anyio<4.0 in /usr/local/lib/python3.10/dist-packages (from langchain) (3.7.1)\n",
            "Requirement already satisfied: async-timeout<5.0.0,>=4.0.0 in /usr/local/lib/python3.10/dist-packages (from langchain) (4.0.3)\n",
            "Requirement already satisfied: dataclasses-json<0.7,>=0.5.7 in /usr/local/lib/python3.10/dist-packages (from langchain) (0.6.1)\n",
            "Requirement already satisfied: jsonpatch<2.0,>=1.33 in /usr/local/lib/python3.10/dist-packages (from langchain) (1.33)\n",
            "Requirement already satisfied: langsmith<0.1.0,>=0.0.40 in /usr/local/lib/python3.10/dist-packages (from langchain) (0.0.43)\n",
            "Requirement already satisfied: numpy<2,>=1 in /usr/local/lib/python3.10/dist-packages (from langchain) (1.23.5)\n",
            "Requirement already satisfied: pydantic<3,>=1 in /usr/local/lib/python3.10/dist-packages (from langchain) (1.10.13)\n",
            "Requirement already satisfied: tenacity<9.0.0,>=8.1.0 in /usr/local/lib/python3.10/dist-packages (from langchain) (8.2.3)\n",
            "Requirement already satisfied: sseclient-py in /usr/local/lib/python3.10/dist-packages (from langchain-wenxin) (1.8.0)\n",
            "Requirement already satisfied: attrs>=17.3.0 in /usr/local/lib/python3.10/dist-packages (from aiohttp->openai) (23.1.0)\n",
            "Requirement already satisfied: charset-normalizer<4.0,>=2.0 in /usr/local/lib/python3.10/dist-packages (from aiohttp->openai) (3.3.0)\n",
            "Requirement already satisfied: multidict<7.0,>=4.5 in /usr/local/lib/python3.10/dist-packages (from aiohttp->openai) (6.0.4)\n",
            "Requirement already satisfied: yarl<2.0,>=1.0 in /usr/local/lib/python3.10/dist-packages (from aiohttp->openai) (1.9.2)\n",
            "Requirement already satisfied: frozenlist>=1.1.1 in /usr/local/lib/python3.10/dist-packages (from aiohttp->openai) (1.4.0)\n",
            "Requirement already satisfied: aiosignal>=1.1.2 in /usr/local/lib/python3.10/dist-packages (from aiohttp->openai) (1.3.1)\n",
            "Requirement already satisfied: idna>=2.8 in /usr/local/lib/python3.10/dist-packages (from anyio<4.0->langchain) (3.4)\n",
            "Requirement already satisfied: sniffio>=1.1 in /usr/local/lib/python3.10/dist-packages (from anyio<4.0->langchain) (1.3.0)\n",
            "Requirement already satisfied: exceptiongroup in /usr/local/lib/python3.10/dist-packages (from anyio<4.0->langchain) (1.1.3)\n",
            "Requirement already satisfied: marshmallow<4.0.0,>=3.18.0 in /usr/local/lib/python3.10/dist-packages (from dataclasses-json<0.7,>=0.5.7->langchain) (3.20.1)\n",
            "Requirement already satisfied: typing-inspect<1,>=0.4.0 in /usr/local/lib/python3.10/dist-packages (from dataclasses-json<0.7,>=0.5.7->langchain) (0.9.0)\n",
            "Requirement already satisfied: jsonpointer>=1.9 in /usr/local/lib/python3.10/dist-packages (from jsonpatch<2.0,>=1.33->langchain) (2.4)\n",
            "Requirement already satisfied: typing-extensions>=4.2.0 in /usr/local/lib/python3.10/dist-packages (from pydantic<3,>=1->langchain) (4.5.0)\n",
            "Requirement already satisfied: urllib3<3,>=1.21.1 in /usr/local/lib/python3.10/dist-packages (from requests>=2.20->openai) (2.0.6)\n",
            "Requirement already satisfied: certifi>=2017.4.17 in /usr/local/lib/python3.10/dist-packages (from requests>=2.20->openai) (2023.7.22)\n",
            "Requirement already satisfied: greenlet!=0.4.17 in /usr/local/lib/python3.10/dist-packages (from SQLAlchemy<3,>=1.4->langchain) (3.0.0)\n",
            "Requirement already satisfied: packaging>=17.0 in /usr/local/lib/python3.10/dist-packages (from marshmallow<4.0.0,>=3.18.0->dataclasses-json<0.7,>=0.5.7->langchain) (23.2)\n",
            "Requirement already satisfied: mypy-extensions>=0.3.0 in /usr/local/lib/python3.10/dist-packages (from typing-inspect<1,>=0.4.0->dataclasses-json<0.7,>=0.5.7->langchain) (1.0.0)\n",
            "Requirement already satisfied: google-search-results in /root/.local/lib/python3.10/site-packages (2.4.2)\n",
            "Requirement already satisfied: requests in /usr/local/lib/python3.10/dist-packages (from google-search-results) (2.31.0)\n",
            "Requirement already satisfied: charset-normalizer<4,>=2 in /usr/local/lib/python3.10/dist-packages (from requests->google-search-results) (3.3.0)\n",
            "Requirement already satisfied: idna<4,>=2.5 in /usr/local/lib/python3.10/dist-packages (from requests->google-search-results) (3.4)\n",
            "Requirement already satisfied: urllib3<3,>=1.21.1 in /usr/local/lib/python3.10/dist-packages (from requests->google-search-results) (2.0.6)\n",
            "Requirement already satisfied: certifi>=2017.4.17 in /usr/local/lib/python3.10/dist-packages (from requests->google-search-results) (2023.7.22)\n",
            "Collecting huggingface-hub==0.14.1\n",
            "  Using cached huggingface_hub-0.14.1-py3-none-any.whl (224 kB)\n",
            "Requirement already satisfied: filelock in /usr/local/lib/python3.10/dist-packages (from huggingface-hub==0.14.1) (3.12.4)\n",
            "Requirement already satisfied: fsspec in /usr/local/lib/python3.10/dist-packages (from huggingface-hub==0.14.1) (2023.6.0)\n",
            "Requirement already satisfied: requests in /usr/local/lib/python3.10/dist-packages (from huggingface-hub==0.14.1) (2.31.0)\n",
            "Requirement already satisfied: tqdm>=4.42.1 in /usr/local/lib/python3.10/dist-packages (from huggingface-hub==0.14.1) (4.66.1)\n",
            "Requirement already satisfied: pyyaml>=5.1 in /usr/local/lib/python3.10/dist-packages (from huggingface-hub==0.14.1) (6.0.1)\n",
            "Requirement already satisfied: typing-extensions>=3.7.4.3 in /usr/local/lib/python3.10/dist-packages (from huggingface-hub==0.14.1) (4.5.0)\n",
            "Requirement already satisfied: packaging>=20.9 in /usr/local/lib/python3.10/dist-packages (from huggingface-hub==0.14.1) (23.2)\n",
            "Requirement already satisfied: charset-normalizer<4,>=2 in /usr/local/lib/python3.10/dist-packages (from requests->huggingface-hub==0.14.1) (3.3.0)\n",
            "Requirement already satisfied: idna<4,>=2.5 in /usr/local/lib/python3.10/dist-packages (from requests->huggingface-hub==0.14.1) (3.4)\n",
            "Requirement already satisfied: urllib3<3,>=1.21.1 in /usr/local/lib/python3.10/dist-packages (from requests->huggingface-hub==0.14.1) (2.0.6)\n",
            "Requirement already satisfied: certifi>=2017.4.17 in /usr/local/lib/python3.10/dist-packages (from requests->huggingface-hub==0.14.1) (2023.7.22)\n",
            "Installing collected packages: huggingface-hub\n",
            "  Attempting uninstall: huggingface-hub\n",
            "    Found existing installation: huggingface-hub 0.17.3\n",
            "    Uninstalling huggingface-hub-0.17.3:\n",
            "      Successfully uninstalled huggingface-hub-0.17.3\n",
            "\u001b[31mERROR: pip's dependency resolver does not currently take into account all the packages that are installed. This behaviour is the source of the following dependency conflicts.\n",
            "tokenizers 0.14.1 requires huggingface_hub<0.18,>=0.16.4, but you have huggingface-hub 0.14.1 which is incompatible.\n",
            "transformers 4.34.0 requires huggingface-hub<1.0,>=0.16.4, but you have huggingface-hub 0.14.1 which is incompatible.\u001b[0m\u001b[31m\n",
            "\u001b[0mSuccessfully installed huggingface-hub-0.14.1\n",
            "Requirement already satisfied: InstructorEmbedding==1.0.1 in /usr/local/lib/python3.10/dist-packages (1.0.1)\n",
            "Requirement already satisfied: sentence-transformers==2.2.2 in /usr/local/lib/python3.10/dist-packages (2.2.2)\n",
            "Requirement already satisfied: transformers<5.0.0,>=4.6.0 in /usr/local/lib/python3.10/dist-packages (from sentence-transformers==2.2.2) (4.34.0)\n",
            "Requirement already satisfied: tqdm in /usr/local/lib/python3.10/dist-packages (from sentence-transformers==2.2.2) (4.66.1)\n",
            "Requirement already satisfied: torch>=1.6.0 in /usr/local/lib/python3.10/dist-packages (from sentence-transformers==2.2.2) (2.0.1+cu118)\n",
            "Requirement already satisfied: torchvision in /usr/local/lib/python3.10/dist-packages (from sentence-transformers==2.2.2) (0.15.2+cu118)\n",
            "Requirement already satisfied: numpy in /usr/local/lib/python3.10/dist-packages (from sentence-transformers==2.2.2) (1.23.5)\n",
            "Requirement already satisfied: scikit-learn in /usr/local/lib/python3.10/dist-packages (from sentence-transformers==2.2.2) (1.2.2)\n",
            "Requirement already satisfied: scipy in /usr/local/lib/python3.10/dist-packages (from sentence-transformers==2.2.2) (1.11.3)\n",
            "Requirement already satisfied: nltk in /usr/local/lib/python3.10/dist-packages (from sentence-transformers==2.2.2) (3.8.1)\n",
            "Requirement already satisfied: sentencepiece in /usr/local/lib/python3.10/dist-packages (from sentence-transformers==2.2.2) (0.1.99)\n",
            "Requirement already satisfied: huggingface-hub>=0.4.0 in /usr/local/lib/python3.10/dist-packages (from sentence-transformers==2.2.2) (0.14.1)\n",
            "Requirement already satisfied: filelock in /usr/local/lib/python3.10/dist-packages (from huggingface-hub>=0.4.0->sentence-transformers==2.2.2) (3.12.4)\n",
            "Requirement already satisfied: fsspec in /usr/local/lib/python3.10/dist-packages (from huggingface-hub>=0.4.0->sentence-transformers==2.2.2) (2023.6.0)\n",
            "Requirement already satisfied: requests in /usr/local/lib/python3.10/dist-packages (from huggingface-hub>=0.4.0->sentence-transformers==2.2.2) (2.31.0)\n",
            "Requirement already satisfied: pyyaml>=5.1 in /usr/local/lib/python3.10/dist-packages (from huggingface-hub>=0.4.0->sentence-transformers==2.2.2) (6.0.1)\n",
            "Requirement already satisfied: typing-extensions>=3.7.4.3 in /usr/local/lib/python3.10/dist-packages (from huggingface-hub>=0.4.0->sentence-transformers==2.2.2) (4.5.0)\n",
            "Requirement already satisfied: packaging>=20.9 in /usr/local/lib/python3.10/dist-packages (from huggingface-hub>=0.4.0->sentence-transformers==2.2.2) (23.2)\n",
            "Requirement already satisfied: sympy in /usr/local/lib/python3.10/dist-packages (from torch>=1.6.0->sentence-transformers==2.2.2) (1.12)\n",
            "Requirement already satisfied: networkx in /usr/local/lib/python3.10/dist-packages (from torch>=1.6.0->sentence-transformers==2.2.2) (3.1)\n",
            "Requirement already satisfied: jinja2 in /usr/local/lib/python3.10/dist-packages (from torch>=1.6.0->sentence-transformers==2.2.2) (3.1.2)\n",
            "Requirement already satisfied: triton==2.0.0 in /usr/local/lib/python3.10/dist-packages (from torch>=1.6.0->sentence-transformers==2.2.2) (2.0.0)\n",
            "Requirement already satisfied: cmake in /usr/local/lib/python3.10/dist-packages (from triton==2.0.0->torch>=1.6.0->sentence-transformers==2.2.2) (3.27.6)\n",
            "Requirement already satisfied: lit in /usr/local/lib/python3.10/dist-packages (from triton==2.0.0->torch>=1.6.0->sentence-transformers==2.2.2) (17.0.2)\n",
            "Collecting huggingface-hub>=0.4.0 (from sentence-transformers==2.2.2)\n",
            "  Using cached huggingface_hub-0.17.3-py3-none-any.whl (295 kB)\n",
            "Requirement already satisfied: regex!=2019.12.17 in /usr/local/lib/python3.10/dist-packages (from transformers<5.0.0,>=4.6.0->sentence-transformers==2.2.2) (2023.6.3)\n",
            "Requirement already satisfied: tokenizers<0.15,>=0.14 in /usr/local/lib/python3.10/dist-packages (from transformers<5.0.0,>=4.6.0->sentence-transformers==2.2.2) (0.14.1)\n",
            "Requirement already satisfied: safetensors>=0.3.1 in /usr/local/lib/python3.10/dist-packages (from transformers<5.0.0,>=4.6.0->sentence-transformers==2.2.2) (0.4.0)\n",
            "Requirement already satisfied: click in /usr/local/lib/python3.10/dist-packages (from nltk->sentence-transformers==2.2.2) (8.1.7)\n",
            "Requirement already satisfied: joblib in /usr/local/lib/python3.10/dist-packages (from nltk->sentence-transformers==2.2.2) (1.3.2)\n",
            "Requirement already satisfied: threadpoolctl>=2.0.0 in /usr/local/lib/python3.10/dist-packages (from scikit-learn->sentence-transformers==2.2.2) (3.2.0)\n",
            "Requirement already satisfied: pillow!=8.3.*,>=5.3.0 in /usr/local/lib/python3.10/dist-packages (from torchvision->sentence-transformers==2.2.2) (9.4.0)\n",
            "Requirement already satisfied: MarkupSafe>=2.0 in /usr/local/lib/python3.10/dist-packages (from jinja2->torch>=1.6.0->sentence-transformers==2.2.2) (2.1.3)\n",
            "Requirement already satisfied: charset-normalizer<4,>=2 in /usr/local/lib/python3.10/dist-packages (from requests->huggingface-hub>=0.4.0->sentence-transformers==2.2.2) (3.3.0)\n",
            "Requirement already satisfied: idna<4,>=2.5 in /usr/local/lib/python3.10/dist-packages (from requests->huggingface-hub>=0.4.0->sentence-transformers==2.2.2) (3.4)\n",
            "Requirement already satisfied: urllib3<3,>=1.21.1 in /usr/local/lib/python3.10/dist-packages (from requests->huggingface-hub>=0.4.0->sentence-transformers==2.2.2) (2.0.6)\n",
            "Requirement already satisfied: certifi>=2017.4.17 in /usr/local/lib/python3.10/dist-packages (from requests->huggingface-hub>=0.4.0->sentence-transformers==2.2.2) (2023.7.22)\n",
            "Requirement already satisfied: mpmath>=0.19 in /usr/local/lib/python3.10/dist-packages (from sympy->torch>=1.6.0->sentence-transformers==2.2.2) (1.3.0)\n",
            "Installing collected packages: huggingface-hub\n",
            "  Attempting uninstall: huggingface-hub\n",
            "    Found existing installation: huggingface-hub 0.14.1\n",
            "    Uninstalling huggingface-hub-0.14.1:\n",
            "      Successfully uninstalled huggingface-hub-0.14.1\n",
            "Successfully installed huggingface-hub-0.17.3\n",
            "Requirement already satisfied: faiss-cpu in /usr/local/lib/python3.10/dist-packages (1.7.4)\n"
          ]
        }
      ]
    },
    {
      "cell_type": "markdown",
      "source": [
        "2. 设置OpenAI环境"
      ],
      "metadata": {
        "id": "8Hihrnw_PeIA"
      }
    },
    {
      "cell_type": "code",
      "source": [
        "import os\n",
        "\n",
        "os.environ['BAIDU_API_KEY'] = \"LwQe70WdQsGKc0E3kdTRt1hk\"\n",
        "os.environ['BAIDU_SECRET_KEY'] = \"McdLiQw6DBdC7zDuNYGkVX4nGg99CwIV\""
      ],
      "metadata": {
        "id": "RS8agW03EJ7C"
      },
      "execution_count": 36,
      "outputs": []
    },
    {
      "cell_type": "code",
      "source": [
        "from langchain_wenxin import Wenxin\n",
        "\n",
        "\n",
        "llm = Wenxin(\n",
        "    temperature=0.9,\n",
        "    model=\"ernie-bot-turbo\",\n",
        "    verbose=True,\n",
        ")"
      ],
      "metadata": {
        "id": "dALQoneUPgEH"
      },
      "execution_count": 37,
      "outputs": []
    },
    {
      "cell_type": "markdown",
      "source": [
        "3. 下载PDF文件AWS Serverless Developer Guide"
      ],
      "metadata": {
        "id": "8aB0OBRFP5FC"
      }
    },
    {
      "cell_type": "code",
      "source": [
        "!wget https://docs.aws.amazon.com/pdfs/serverless/latest/devguide/serverless-core.pdf\n",
        "\n",
        "PDF_NAME = 'sunshine.pdf'"
      ],
      "metadata": {
        "colab": {
          "base_uri": "https://localhost:8080/"
        },
        "id": "zF-PFO9BP6wr",
        "outputId": "a427673d-22dd-4bac-8cdf-878ba8198a06"
      },
      "execution_count": 38,
      "outputs": [
        {
          "output_type": "stream",
          "name": "stdout",
          "text": [
            "--2023-10-09 02:36:02--  https://docs.aws.amazon.com/pdfs/serverless/latest/devguide/serverless-core.pdf\n",
            "Resolving docs.aws.amazon.com (docs.aws.amazon.com)... 65.8.248.16, 65.8.248.109, 65.8.248.56, ...\n",
            "Connecting to docs.aws.amazon.com (docs.aws.amazon.com)|65.8.248.16|:443... connected.\n",
            "HTTP request sent, awaiting response... 200 OK\n",
            "Length: 4733257 (4.5M) [application/pdf]\n",
            "Saving to: ‘serverless-core.pdf.1’\n",
            "\n",
            "serverless-core.pdf 100%[===================>]   4.51M  8.22MB/s    in 0.5s    \n",
            "\n",
            "2023-10-09 02:36:03 (8.22 MB/s) - ‘serverless-core.pdf.1’ saved [4733257/4733257]\n",
            "\n"
          ]
        }
      ]
    },
    {
      "cell_type": "markdown",
      "source": [
        "4. 加载PDF文件"
      ],
      "metadata": {
        "id": "WqBDCt0HQFAA"
      }
    },
    {
      "cell_type": "code",
      "source": [
        "from langchain.document_loaders import PyMuPDFLoader\n",
        "docs = PyMuPDFLoader(PDF_NAME).load()\n",
        "\n",
        "print (f'There are {len(docs)} document(s) in {PDF_NAME}.')\n",
        "print (f'There are {len(docs[0].page_content)} characters in the first page of your document.')"
      ],
      "metadata": {
        "colab": {
          "base_uri": "https://localhost:8080/"
        },
        "id": "bniPzdhUQSlw",
        "outputId": "d8120e7d-b684-4c6f-c9e6-1bf38a70454f"
      },
      "execution_count": 39,
      "outputs": [
        {
          "output_type": "stream",
          "name": "stdout",
          "text": [
            "There are 43 document(s) in sunshine.pdf.\n",
            "There are 1372 characters in the first page of your document.\n"
          ]
        }
      ]
    },
    {
      "cell_type": "markdown",
      "source": [
        "5. 拆分文档并存储文本嵌入的向量数据"
      ],
      "metadata": {
        "id": "V9kvXY9uQ1mI"
      }
    },
    {
      "cell_type": "code",
      "source": [
        "# from langchain.embeddings.openai import OpenAIEmbeddings\n",
        "# from langchain.text_splitter import RecursiveCharacterTextSplitter\n",
        "# from langchain.vectorstores import Chroma\n",
        "# from langchain.embeddings import HuggingFaceEmbeddings\n",
        "\n",
        "# model_name = \"shibing624/text2vec-base-chinese\"\n",
        "\n",
        "# text_splitter = RecursiveCharacterTextSplitter(chunk_size=1000, chunk_overlap=200)\n",
        "# split_docs = text_splitter.split_documents(docs)\n",
        "\n",
        "# embeddings = HuggingFaceEmbeddings(model_name=model_name)\n",
        "\n",
        "# vectorstore = Chroma.from_documents(split_docs, embeddings, collection_name=\"serverless_guide\")"
      ],
      "metadata": {
        "id": "G4d8cwQTQ2fa"
      },
      "execution_count": null,
      "outputs": []
    },
    {
      "cell_type": "code",
      "source": [
        "from langchain_wenxin.embeddings import WenxinEmbeddings\n",
        "from langchain.text_splitter import RecursiveCharacterTextSplitter\n",
        "from langchain.vectorstores import Chroma\n",
        "\n",
        "wenxin_embed = WenxinEmbeddings(truncate=\"END\")\n",
        "\n",
        "text_splitter = RecursiveCharacterTextSplitter(chunk_size=1000, chunk_overlap=200)\n",
        "split_docs = text_splitter.split_documents(docs)\n",
        "\n",
        "vectorstore = Chroma.from_documents(split_docs, wenxin_embed, collection_name=\"serverless_guide\")"
      ],
      "metadata": {
        "id": "tChzSFT5FgF1"
      },
      "execution_count": 40,
      "outputs": []
    },
    {
      "cell_type": "markdown",
      "source": [
        "6. 基于OpenAI创建QA链"
      ],
      "metadata": {
        "id": "-T6_mIR8RwEF"
      }
    },
    {
      "cell_type": "code",
      "source": [
        "from langchain.llms import OpenAI\n",
        "from langchain.chains.question_answering import load_qa_chain\n",
        "\n",
        "# llm = OpenAI(temperature=0)\n",
        "chain = load_qa_chain(llm, chain_type=\"stuff\")"
      ],
      "metadata": {
        "id": "BsW99LnUR2Ns"
      },
      "execution_count": 41,
      "outputs": []
    },
    {
      "cell_type": "markdown",
      "source": [
        "7. 基于提问，进行相似性查询"
      ],
      "metadata": {
        "id": "ED54hPgfSXYL"
      }
    },
    {
      "cell_type": "code",
      "source": [
        "query = \"本产品当中，不在保障范围内的轻度恶性肿瘤?\"\n",
        "similar_docs = vectorstore.similarity_search(query, 3, include_metadata=True)"
      ],
      "metadata": {
        "id": "bPmKM4zXSam9"
      },
      "execution_count": 67,
      "outputs": []
    },
    {
      "cell_type": "code",
      "source": [
        "similar_docs"
      ],
      "metadata": {
        "colab": {
          "base_uri": "https://localhost:8080/"
        },
        "id": "DNog2ekVSxPa",
        "outputId": "32102f2c-b762-4356-b807-74b3f2bc46b4"
      },
      "execution_count": 68,
      "outputs": [
        {
          "output_type": "execute_result",
          "data": {
            "text/plain": [
              "[Document(page_content='41-28\\n非脊髓内的其他椎管内肿瘤、脊柱肿瘤、神经纤维瘤不在保障范围内。\\n脊髓内恶性肿瘤不在本疾病保障范围内。\\n3.6.86\\n严重癫痫\\n须由我们认可的医院专科医生根据典型临床症状和脑电图及 MRI、PET、CT 等影像\\n学检查做出诊断。须提供 180 天以上的相关病历记录证明被保险人存在经抗癫痫药\\n物治疗无效而反复发作的强直阵挛性发作或癫痫大发作，且实际实施了神经外科手\\n术。\\n发热性惊厥以及没有全身性发作的失神发作（癫痫小发作）不在保障范围内。\\n3.6.87\\n严 重 脊 髓\\n灰质炎\\n指由于急性脊髓灰质炎病毒感染所导致的运动功能障碍的瘫痪性疾病。本疾病须经\\n我们认可的医院专科医生出具医学诊断证明，并提供相关的脊髓灰质炎病毒感染的\\n证据（例如：脑脊液检查或血清学抗体检查报告），且脊髓灰质炎造成的神经系统功\\n能损害导致被保险人一肢（含）以上肢体肌力2级（含）以下。\\n3.6.88\\n严 重 肾 上\\n腺 脑 白 质\\n营养不良\\n肾上腺脑白质营养不良是一种脂质代谢障碍病，由于体内缺乏过氧化物酶而致长链\\n脂肪酸在体内沉积，造成脑白质和肾上腺皮质破坏。主要表现为情感障碍、运动功\\n能障碍、肾上腺皮质功能减退等。须经我们认可的医院专科医生诊断，且已经造成\\n自主生活能力完全丧失，确诊 180 天以后仍无法独立完成六项基本日常生活活动中\\n的三项或三项以上。\\n3.6.89\\n结 核 性 脊\\n髓炎\\n指因结核杆菌引起的脊髓炎，即该疾病首次确诊180天后，仍遗留下列一种或一种以\\n上障碍：\\n（1）一肢（含）以上肢体肌力2级（含）以下；\\n（2）自主生活能力完全丧失，无法独立完成六项基本日常生活活动中的三项或三项\\n以上。\\n3.6.90\\n脑型疟疾\\n恶性疟原虫严重感染导致的脑病或脑型疟疾，以昏迷为主要特征。脑型疟疾的诊断\\n须由我们认可的医院专科医生确认，且外周血涂片存在恶性疟原虫。\\n其他明确病因导致的脑病不在保障范围内。\\n3.6.91\\n严 重 强 直\\n性脊柱炎\\n强直性脊柱炎是一种慢性全身性炎性疾病，主要侵犯脊柱导致脊柱畸形。\\n强直性脊柱炎必须明确诊断并且满足下列所有条件：\\n（1）严重脊柱畸形；\\n（2）自主生活能力完全丧失，无法独立完成六项基本日常生活活动中的三项或三项\\n以上。\\n3.6.92\\n库鲁病\\n指一种亚急性传染性朊蛋白病。临床表现为共济失调、震颤、不自主运动，在病程', metadata={'author': 'liyang-lhq', 'creationDate': \"D:20210325095633+01'56'\", 'creator': 'WPS Office', 'file_path': 'sunshine.pdf', 'format': 'PDF 1.7', 'keywords': '', 'modDate': \"D:20210325095633+01'56'\", 'page': 29, 'producer': '', 'source': 'sunshine.pdf', 'subject': '', 'title': '', 'total_pages': 43, 'trapped': ''}),\n",
              " Document(page_content='41-4\\n3.2\\n轻 症 重 疾\\n的定义\\n以上各种轻症重疾须我们认可的医院专科医生明确诊断，且符合以下定义：\\n前 3 种轻症重疾定义完全采用了中国保险行业协会发布的《重大疾病保险的疾病\\n定义使用规范（2020 年修订版）》中的疾病定义，其他为我们增加的疾病:\\n3.2.1\\n恶 性 肿瘤\\n——轻度\\n指恶性细胞不受控制的进行性增长和扩散，浸润和破坏周围正常组织，可以经血\\n管、淋巴管和体腔扩散转移到身体其他部位，病灶经组织病理学检查（见11.19）\\n（涵盖骨髓病理学检查）结果明确诊断，临床诊断属于世界卫生组织（WHO，\\nWorld Health Organization）《疾病和有关健康问题的国际统计分类》第十次修订版\\n（ICD-10）（见11.20）的恶性肿瘤类别及《国际疾病分类肿瘤学专辑》第三版\\n（ICD-O-3）（见11.20）的肿瘤形态学编码属于3、6、9（恶性肿瘤）范畴，但不\\n在“恶性肿瘤——重度”保障范围的疾病。且特指下列六项之一：\\n（1）TNM分期（见11.21）为Ⅰ期的甲状腺癌；\\n（2）TNM分期为T1N0M0期的前列腺癌；\\n（3）黑色素瘤以外的未发生淋巴结和远处转移的皮肤恶性肿瘤；\\n（4）相当于Binet分期方案A期程度的慢性淋巴细胞白血病；\\n（5）相当于Ann Arbor分期方案Ⅰ期程度的何杰金氏病；\\n（6）未发生淋巴结和远处转移且WHO分级为G1级别（核分裂像<10/50 HPF和\\nki-67≤2%）的神经内分泌肿瘤。\\n下列疾病不属于“恶性肿瘤——轻度”，不在保障范围内：\\nICD-O-3肿瘤形态学编码属于0（良性肿瘤）、1（动态未定性肿瘤）、2（原位癌和\\n非侵袭性癌）范畴的疾病，如：\\na.原位癌，癌前病变，非浸润性癌，非侵袭性癌，肿瘤细胞未侵犯基底层，上皮\\n内瘤变，细胞不典型性增生等；\\nb.交界性肿瘤，交界恶性肿瘤，肿瘤低度恶性潜能，潜在低度恶性肿瘤等。\\n3.2.2\\n较 轻 急性\\n心肌梗死\\n急性心肌梗死指由于冠状动脉闭塞或梗阻引起部分心肌严重的持久性缺血造成急\\n性心肌坏死。急性心肌梗死的诊断必须依据国际国内诊断标准，符合（1）检测到\\n肌酸激酶同工酶（CK-MB）或肌钙蛋白（cTn）升高和/或降低的动态变化，至少\\n一次达到或超过心肌梗死的临床诊断标准；（2）同时存在下列之一的证据，包括：', metadata={'author': 'liyang-lhq', 'creationDate': \"D:20210325095633+01'56'\", 'creator': 'WPS Office', 'file_path': 'sunshine.pdf', 'format': 'PDF 1.7', 'keywords': '', 'modDate': \"D:20210325095633+01'56'\", 'page': 5, 'producer': '', 'source': 'sunshine.pdf', 'subject': '', 'title': '', 'total_pages': 43, 'trapped': ''}),\n",
              " Document(page_content='多倍保障重大疾病保险条款                                                    新华人寿保险股份有限公司 \\n55520161                                                                             第 31 页[共 33 页] \\n附录：《疾病分组与给付限额表》 \\n组别 \\n本合同所指的重大疾病 \\n本合同所指的轻症疾病 \\n单一组别 \\n给付限额 \\n第一组 \\n癌症 \\n1 \\n恶性肿瘤√ \\n1 \\n极早期恶性肿瘤或恶性病变 \\n300% 基 本 保 险\\n金额 \\n \\n \\n2 \\n侵蚀性葡萄胎 \\n第二组 \\n与心血\\n管相关\\n的疾病 \\n2 \\n急性心肌梗塞√ \\n3 \\n不典型的急性心肌梗塞 \\n100% 基 本 保 险\\n金额 \\n3 \\n冠状动脉搭桥术（或称冠\\n状动脉旁路移植术）√ \\n4 \\n冠状动脉介入手术 \\n4 \\n心脏瓣膜手术√ \\n5 \\n心脏瓣膜介入手术 \\n5 \\n严重原发性肺动脉高压√ 6 \\n轻度原发性肺动脉高压 \\n6 \\n主动脉手术√ \\n7 \\n主动脉内手术 \\n7 \\n严重冠心病 \\n8 \\n微创冠状动脉搭桥术 \\n8 \\n严重原发性心肌病 \\n9 \\n早期原发性心肌病 \\n9 \\n肺源性心脏病 \\n10 风湿热导致的心脏瓣膜疾病 \\n10 主动脉夹层 \\n11 特定周围动脉狭窄的血管介\\n入治疗 \\n11 感染性心内膜炎 \\n12 植入心脏除纤颤器 \\n12 嗜铬细胞瘤 \\n13 植入心脏起搏器 \\n13 严重心肌炎 \\n14 激光心肌血运重建术 \\n14 Ⅲ度房室传导阻滞 \\n15 心包膜切除术 \\n15 严重慢性缩窄性心包炎 \\n \\n \\n16 艾森门格综合征 \\n \\n \\n第三组 \\n与神经\\n系统相\\n关的疾\\n病 \\n17 脑中风后遗症√ \\n16 轻度脑中风 \\n100% 基 本 保 险\\n金额 \\n18 良性脑肿瘤√ \\n17 脑垂体瘤、脑囊肿和脑血管瘤 \\n19 脑炎后遗症或脑膜炎后遗\\n症√ \\n18 中度细菌性脑膜炎 \\n19 中度病毒性脑炎 \\n20 深度昏迷√ \\n20 中度昏迷 \\n21 重症肌无力 \\n21 中度重症肌无力 \\n22 严重阿尔茨海默病√ \\n22 早期脑退化症（包括早期阿尔\\n茨海默病） \\n23 严重脑损伤√ \\n23 严重头部外伤 \\n24 严重帕金森病√ \\n24 中度帕金森病 \\n25 严重运动神经元病√', metadata={'author': '', 'creationDate': \"D:20160330173335+08'00'\", 'creator': '', 'file_path': 'ncl_555.pdf', 'format': 'PDF 1.3', 'keywords': '', 'modDate': \"D:20211117134915+08'00'\", 'page': 30, 'producer': 'Foxit PDF Creator Version 3.0.1.0109', 'source': 'ncl_555.pdf', 'subject': '', 'title': '', 'total_pages': 33, 'trapped': ''})]"
            ]
          },
          "metadata": {},
          "execution_count": 68
        }
      ]
    },
    {
      "cell_type": "markdown",
      "source": [
        "8. 基于相关文档，利用QA链完成回答"
      ],
      "metadata": {
        "id": "1XecjykTSnve"
      }
    },
    {
      "cell_type": "code",
      "source": [
        "str_res = chain.run(input_documents=similar_docs, question=query)\n",
        "print(str_res)"
      ],
      "metadata": {
        "colab": {
          "base_uri": "https://localhost:8080/"
        },
        "id": "E4YOeM8aSuEY",
        "outputId": "13e8cf18-cb9f-49c0-d9a6-6384c16909a5"
      },
      "execution_count": 71,
      "outputs": [
        {
          "output_type": "stream",
          "name": "stdout",
          "text": [
            "根据保险条款，本产品中不在保障范围内的轻度恶性肿瘤包括：\n",
            "\n",
            "1. 甲状腺癌（TNM分期为Ⅰ期）；\n",
            "2. 前列腺癌（TNM分期为T1N0M0期）；\n",
            "3. 皮肤恶性肿瘤（黑色素瘤以外的未发生淋巴结和远处转移的皮肤恶性肿瘤）；\n",
            "4. 慢性淋巴细胞白血病（相当于Binet分期方案A期程度）；\n",
            "5. 何杰金氏病（相当于Ann Arbor分期方案Ⅰ期程度）；\n",
            "6. 神经内分泌肿瘤（未发生淋巴结和远处转移且WHO分级为G1级别）。\n",
            "\n",
            "以上是符合条款中不在保障范围内的轻度恶性肿瘤，如有其他问题，可以进一步咨询保险公司。\n"
          ]
        }
      ]
    },
    {
      "cell_type": "markdown",
      "source": [
        "## Parse the results"
      ],
      "metadata": {
        "id": "m5M3DORm6kOG"
      }
    },
    {
      "cell_type": "code",
      "source": [
        "from langchain.output_parsers import StructuredOutputParser, ResponseSchema, CommaSeparatedListOutputParser\n",
        "from langchain.prompts import PromptTemplate, ChatPromptTemplate, HumanMessagePromptTemplate\n",
        "from langchain_wenxin import ChatWenxin"
      ],
      "metadata": {
        "id": "wBCXkxYZ6ngU"
      },
      "execution_count": 88,
      "outputs": []
    },
    {
      "cell_type": "code",
      "source": [
        "chat_model = ChatWenxin(\n",
        "    temperature=0.9,\n",
        "    model=\"ernie-bot-turbo\",\n",
        "    verbose=True,\n",
        ")"
      ],
      "metadata": {
        "id": "haW7ExEL-d6R"
      },
      "execution_count": 79,
      "outputs": []
    },
    {
      "cell_type": "code",
      "source": [
        "output_parser = CommaSeparatedListOutputParser()\n",
        "\n",
        "format_instructions = output_parser.get_format_instructions()\n",
        "prompt = ChatPromptTemplate(\n",
        "     messages=[\n",
        "        HumanMessagePromptTemplate.from_template(f\"请把这句话 {str_res} 中每一条，依照换行符整理成JSON 格式\")\n",
        "    ],\n",
        ")\n",
        "\n",
        "\n",
        "_input = prompt.format_prompt(subject=f\"不在保障范围的疾病：{str_res}\")\n",
        "output = chat_model(_input.to_messages())\n",
        "\n",
        "# output_parser.parse(output)"
      ],
      "metadata": {
        "id": "PjYvOhI--sij"
      },
      "execution_count": 95,
      "outputs": []
    },
    {
      "cell_type": "code",
      "source": [
        "print(output.content)"
      ],
      "metadata": {
        "id": "TJh4Huii-xgy",
        "outputId": "16ac582f-3250-454f-833b-bd969f223d58",
        "colab": {
          "base_uri": "https://localhost:8080/"
        }
      },
      "execution_count": 101,
      "outputs": [
        {
          "output_type": "stream",
          "name": "stdout",
          "text": [
            "以下是将您提供的文字按照换行符整理成JSON格式的结果：\n",
            "\n",
            "```json\n",
            "{\n",
            "  \"轻度恶性肿瘤\": [\n",
            "    {\n",
            "      \"疾病名称\": \"甲状腺癌（TNM分期为Ⅰ期）\",\n",
            "      \"描述\": \"不在保障范围内\"\n",
            "    },\n",
            "    {\n",
            "      \"疾病名称\": \"前列腺癌（TNM分期为T1N0M0期）\",\n",
            "      \"描述\": \"不在保障范围内\"\n",
            "    },\n",
            "    {\n",
            "      \"疾病名称\": \"皮肤恶性肿瘤（黑色素瘤以外的未发生淋巴结和远处转移的皮肤恶性肿瘤）\",\n",
            "      \"描述\": \"不在保障范围内\"\n",
            "    },\n",
            "    {\n",
            "      \"疾病名称\": \"慢性淋巴细胞白血病（相当于Binet分期方案A期程度）\",\n",
            "      \"描述\": \"不在保障范围内\"\n",
            "    },\n",
            "    {\n",
            "      \"疾病名称\": \"何杰金氏病（相当于Ann Arbor分期方案Ⅰ期程度）\",\n",
            "      \"描述\": \"不在保障范围内\"\n",
            "    },\n",
            "    {\n",
            "      \"疾病名称\": \"神经内分泌肿瘤（未发生淋巴结和远处转移且WHO分级为G1级别）\",\n",
            "      \"描述\": \"不在保障范围内，如有其他问题，可以进一步咨询保险公司\"\n",
            "    }\n",
            "  ]\n",
            "}```\n"
          ]
        }
      ]
    },
    {
      "cell_type": "code",
      "source": [],
      "metadata": {
        "id": "12OhnN_EESil"
      },
      "execution_count": null,
      "outputs": []
    }
  ]
}